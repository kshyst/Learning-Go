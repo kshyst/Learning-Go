{
 "cells": [
  {
   "metadata": {},
   "cell_type": "markdown",
   "source": [
    "<h3>Useful sources</h3>\n",
    "\n",
    "<a href=\"https://go.dev/tour/list\">start tour</a>\n",
    "<br>\n",
    "<a href=\"https://www.w3schools.com/go/index.php\">w3s</a>\n",
    "<br>\n",
    "<a href=\"https://echo.labstack.com/docs/quick-start\">Echo</a>"
   ],
   "id": "bebe3054e85dc0f4"
  },
  {
   "metadata": {},
   "cell_type": "markdown",
   "source": [
    "<h3>Slices and arrays</h3>\n",
    "\n",
    "<p>The three dots (…) in Golang is termed as Ellipsis in Golang which is used in the variadic function. The function that called with the varying number of arguments is known as variadic function. Or in other words, a user is allowed to pass zero or more arguments in the variadic function.</p>\n",
    "\n",
    "<p>Ellipsis is also used in the slice to append one slice to another slice. It is</p>\n",
    "\n",
    "```go\n",
    "slice1 := []int{1, 2, 3}\n",
    "slice2 := []int{4, 5, 6}\n",
    "slice1 = append(slice1, slice2...)\n",
    "```"
   ],
   "id": "d9ee314a72fd267c"
  },
  {
   "metadata": {},
   "cell_type": "markdown",
   "source": [
    "<h3>Variables</h3>\n",
    "\n",
    "<p>Using int in 64 bit arch cpu machine creates 64 bit int that is 8 byte so make sure to define the int type</p>\n",
    "\n",
    "<p>also you can use uint to make it unsigned</p>\n",
    "\n",
    "\n",
    "\n",
    "```go\n",
    "var i int8 = 127\n",
    "var j int16 = 32767\n",
    "var j int32 = 2147483647\n",
    "var j int64 = 9223372036854775807\n",
    "\n",
    "var j uint8 = 255\n",
    "var j uint16 = 65535\n",
    "var j uint32 = 4294967295\n",
    "var j uint64 = 18446744073709551615\n",
    "\n",
    "```\n",
    "\n"
   ],
   "id": "9bc713061193157e"
  },
  {
   "metadata": {},
   "cell_type": "markdown",
   "source": [
    "<h3>Conditions</h3>\n",
    "\n",
    "<p>there is no need to user break in switches it automaticaly breaks</p>"
   ],
   "id": "52eb1c001c52fd9d"
  },
  {
   "metadata": {},
   "cell_type": "markdown",
   "source": [
    "<h3>Maps</h3>\n",
    "\n",
    "```go\n",
    "\n",
    "// create a nested map \n",
    "var map1 = make(map[string][string]int)\n",
    "\n",
    "// add a value to the map\n",
    "\n",
    "map1[\"key\"] = \"value\"\n",
    "map1[\"value\"] = 1\n",
    "\n",
    "// get a value from the map\n",
    "fmt.Println(map1[\"key\"][\"value\"])\n",
    "```\n",
    "\n",
    "<h5>Unordered</h5>\n",
    "\n",
    "<p>Maps are unordered collections of key-value pairs. Maps are used to look up a value by its associated key. The key is used to retrieve the value. The key must be unique and can be of any type. The value can be of any type. The zero value of a map is nil. A map can be created using the built-in make() function.</p>\n",
    "\n",
    "<br>\n",
    "\n",
    "<p>Iterating over elements of a map can give you different order every time for iteration</p>\n",
    "\n",
    "```go\n",
    "map1 := map[string]int{\"one\": 1, \"two\": 2, \"three\": 3}\n",
    "\n",
    "for key, value := range map1 {\n",
    "    fmt.Println(key, value)\n",
    "}\n",
    "```"
   ],
   "id": "e0915ebea9f62b6b"
  },
  {
   "metadata": {},
   "cell_type": "markdown",
   "source": [
    "<h3>Pointers</h3>\n",
    "\n",
    "\n",
    "<p>Pointers are used to store the memory address of another variable. It is used to store the address of another variable. It is denoted by an asterisk (*) followed by the type of the stored variable. The zero value of a pointer is nil. A pointer can be created using the built-in new() function.</p>"
   ],
   "id": "47574dd56092793f"
  }
 ],
 "metadata": {
  "kernelspec": {
   "display_name": "Python 3",
   "language": "python",
   "name": "python3"
  },
  "language_info": {
   "codemirror_mode": {
    "name": "ipython",
    "version": 2
   },
   "file_extension": ".py",
   "mimetype": "text/x-python",
   "name": "python",
   "nbconvert_exporter": "python",
   "pygments_lexer": "ipython2",
   "version": "2.7.6"
  }
 },
 "nbformat": 4,
 "nbformat_minor": 5
}
