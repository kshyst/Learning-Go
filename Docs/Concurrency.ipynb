{
 "cells": [
  {
   "metadata": {},
   "cell_type": "markdown",
   "source": [
    "<h3>Concurrency vs Parallel Computing</h3>\n",
    "\n",
    "<p>\n",
    "Concurrency is a design pattern that allows you to write code that can handle multiple tasks at once. Parallelism is the actual execution of multiple tasks at the same time. Concurrency is a design pattern, while parallelism is an implementation detail.\n",
    "</p>\n",
    "\n",
    "<p>\n",
    "Concurrency is a way to structure your software to make it more flexible and modular. It allows you to write code that can handle multiple tasks at once, even if your computer only has one CPU. Concurrency is a design pattern that allows you to write code that can handle multiple tasks at once. Parallelism is the actual execution of multiple tasks at the same time. Concurrency is a design pattern, while parallelism is an implementation detail.\n",
    "</p>\n",
    "\n",
    "<p>\n",
    " the code that you write is concurrent, but the actual execution of that code is parallel. This is because Go has built-in support for concurrency, and it automatically runs your code in parallel when it can.\n",
    "</p>\n",
    "\n",
    "<p>\n",
    " the concurrent code is not necessarily running in parallel. It is up to the Go runtime to decide when to run your code in parallel. This is why Go is called a concurrent language, not a parallel language.\n",
    "</p>\n",
    "\n",
    "<h5>Deadlock error</h5>\n",
    "\n",
    "<p>\n",
    "When a program tries to read from an empty channel or write to a full channel, it will block until the channel is ready. If the channel never becomes ready, the program will deadlock. A deadlock is when a program gets stuck and can't make any progress. This can happen if you forget to close a channel or if you try to read from a channel that is never written to.\n",
    "</p>\n",
    "\n",
    "<p>\n",
    "to fix the deadlock error, you need to make sure that all channels are closed when they are no longer needed. This will allow the program to exit cleanly and avoid getting stuck.\n",
    "</p>"
   ],
   "id": "56a14655a051cefd"
  },
  {
   "metadata": {},
   "cell_type": "markdown",
   "source": [
    "<h3>Buffered Channels</h3>\n",
    "\n",
    "<p>\n",
    "Channels can be buffered. Provide the buffer length as the second argument to make to initialize a buffered channel:\n",
    "</p>\n",
    "\n",
    "```go\n",
    "ch := make(chan int, 100)\n",
    "```\n",
    "\n",
    "Sends to a buffered channel block only when the buffer is full. Receives block when the buffer is empty.\n",
    "\n",
    "Modify the example to overfill the buffer and see what happens.\n",
    "\n",
    "```go\n",
    "package main\n",
    "\n",
    "import \"fmt\"\n",
    "\n",
    "func main() {\n",
    "    ch := make(chan int, 2)\n",
    "    ch <- 1\n",
    "    ch <- 2\n",
    "    fmt.Println(<-ch)\n",
    "    fmt.Println(<-ch)\n",
    "}\n",
    "```\n",
    "\n",
    "```bash\n",
    "$ go run buffered-channels.go\n",
    "1\n",
    "2\n",
    "```"
   ],
   "id": "68ca9ea69411a3d7"
  }
 ],
 "metadata": {
  "kernelspec": {
   "display_name": "Python 3",
   "language": "python",
   "name": "python3"
  },
  "language_info": {
   "codemirror_mode": {
    "name": "ipython",
    "version": 2
   },
   "file_extension": ".py",
   "mimetype": "text/x-python",
   "name": "python",
   "nbconvert_exporter": "python",
   "pygments_lexer": "ipython2",
   "version": "2.7.6"
  }
 },
 "nbformat": 4,
 "nbformat_minor": 5
}
