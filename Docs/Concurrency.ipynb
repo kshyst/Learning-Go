{
 "cells": [
  {
   "metadata": {},
   "cell_type": "markdown",
   "source": [
    "<h3>Channels</h3>\n",
    "\n",
    "<p>\n",
    "Channels are a typed conduit through which you can send and receive values with the channel operator, <-.\n",
    "\n",
    "ch <- v    // Send v to channel ch.\n",
    "v := <-ch  // Receive from ch, and\n",
    "           // assign value to v.\n",
    "(The data flows in the direction of the arrow.)\n",
    "\n",
    "Like maps and slices, channels must be created before use:\n",
    "\n",
    "ch := make(chan int)\n",
    "By default, sends and receives block until the other side is ready. This allows goroutines to synchronize without explicit locks or condition variables.\n",
    "</p>"
   ],
   "id": "4173653add2ffa4e"
  },
  {
   "metadata": {},
   "cell_type": "markdown",
   "source": [
    "<h3>Buffered Channels</h3>\n",
    "\n",
    "<p>\n",
    "Channels can be buffered. Provide the buffer length as the second argument to make to initialize a buffered channel:\n",
    "</p>\n",
    "\n",
    "```go\n",
    "ch := make(chan int, 100)\n",
    "```\n",
    "\n",
    "Sends to a buffered channel block only when the buffer is full. Receives block when the buffer is empty.\n",
    "\n",
    "Modify the example to overfill the buffer and see what happens.\n",
    "\n",
    "```go\n",
    "package main\n",
    "\n",
    "import \"fmt\"\n",
    "\n",
    "func main() {\n",
    "    ch := make(chan int, 2)\n",
    "    ch <- 1\n",
    "    ch <- 2\n",
    "    fmt.Println(<-ch)\n",
    "    fmt.Println(<-ch)\n",
    "}\n",
    "```\n",
    "\n",
    "```bash\n",
    "$ go run buffered-channels.go\n",
    "1\n",
    "2\n",
    "```"
   ],
   "id": "68ca9ea69411a3d7"
  }
 ],
 "metadata": {
  "kernelspec": {
   "display_name": "Python 3",
   "language": "python",
   "name": "python3"
  },
  "language_info": {
   "codemirror_mode": {
    "name": "ipython",
    "version": 2
   },
   "file_extension": ".py",
   "mimetype": "text/x-python",
   "name": "python",
   "nbconvert_exporter": "python",
   "pygments_lexer": "ipython2",
   "version": "2.7.6"
  }
 },
 "nbformat": 4,
 "nbformat_minor": 5
}
